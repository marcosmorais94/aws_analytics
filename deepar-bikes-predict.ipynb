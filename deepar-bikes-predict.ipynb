{
 "cells": [
  {
   "cell_type": "markdown",
   "id": "d332b5c1-51a3-48cc-b587-071c6f94d6a5",
   "metadata": {},
   "source": [
    "# 1. Introdução"
   ]
  },
  {
   "cell_type": "markdown",
   "id": "dbb1dc70-9c6c-44c4-bb73-28d5447bc470",
   "metadata": {},
   "source": [
    "A Amazon Web Services (AWS) é a plataforma de nuvem mais adotada e mais abrangente do mundo, oferecendo mais de 200 serviços completos de datacenters em todo o mundo. Milhões de clientes, incluindo as startups de crescimento mais rápido, grandes empresas e os maiores órgãos governamentais, estão usando a AWS para reduzirem seus custos, ficarem mais ágeis e inovarem mais rapidamente.\n",
    "\n",
    "O ambiente AWS permite o processamento e análise de dados direto na nuvem, que implica principalmente em uma redução significativa de tempo de processamento e reduação de espaço fisícos para armazenamento de dados.\n",
    "\n",
    "Este script tem como objetivo uma análise preditiva com séries temporais em relação a um dataset de aluguel de bikes."
   ]
  },
  {
   "cell_type": "markdown",
   "id": "a36362df-492e-4655-94ed-ddd1bdce2936",
   "metadata": {},
   "source": [
    "# 2. Carga dos Dados e Análise Exploratória"
   ]
  },
  {
   "cell_type": "markdown",
   "id": "96a463f7-3956-4486-a653-8a6695e0ae5f",
   "metadata": {},
   "source": [
    "## 2.1 - Carga de Pacotes"
   ]
  },
  {
   "cell_type": "code",
   "execution_count": 1,
   "id": "cd23519c-68c7-4680-ab6c-76c4c653819e",
   "metadata": {},
   "outputs": [],
   "source": [
    "import pandas as pd\n",
    "import matplotlib.pyplot as plt\n",
    "%matplotlib inline\n",
    "import json\n",
    "import os\n",
    "import numpy as np\n",
    "import datetime\n",
    "import boto3\n",
    "import sagemaker"
   ]
  },
  {
   "cell_type": "code",
   "execution_count": 2,
   "id": "cf793878-b1df-432e-89db-c9ec299bdba2",
   "metadata": {},
   "outputs": [
    {
     "data": {
      "text/html": [
       "<div>\n",
       "<style scoped>\n",
       "    .dataframe tbody tr th:only-of-type {\n",
       "        vertical-align: middle;\n",
       "    }\n",
       "\n",
       "    .dataframe tbody tr th {\n",
       "        vertical-align: top;\n",
       "    }\n",
       "\n",
       "    .dataframe thead th {\n",
       "        text-align: right;\n",
       "    }\n",
       "</style>\n",
       "<table border=\"1\" class=\"dataframe\">\n",
       "  <thead>\n",
       "    <tr style=\"text-align: right;\">\n",
       "      <th></th>\n",
       "      <th>datetime</th>\n",
       "      <th>season</th>\n",
       "      <th>holiday</th>\n",
       "      <th>workingday</th>\n",
       "      <th>weather</th>\n",
       "      <th>temp</th>\n",
       "      <th>atemp</th>\n",
       "      <th>humidity</th>\n",
       "      <th>windspeed</th>\n",
       "      <th>casual</th>\n",
       "      <th>registered</th>\n",
       "      <th>count</th>\n",
       "    </tr>\n",
       "  </thead>\n",
       "  <tbody>\n",
       "    <tr>\n",
       "      <th>0</th>\n",
       "      <td>2011-01-01 00:00:00</td>\n",
       "      <td>1</td>\n",
       "      <td>0</td>\n",
       "      <td>0</td>\n",
       "      <td>1</td>\n",
       "      <td>9.84</td>\n",
       "      <td>14.395</td>\n",
       "      <td>81</td>\n",
       "      <td>0.0000</td>\n",
       "      <td>3</td>\n",
       "      <td>13</td>\n",
       "      <td>16</td>\n",
       "    </tr>\n",
       "    <tr>\n",
       "      <th>1</th>\n",
       "      <td>2011-01-01 01:00:00</td>\n",
       "      <td>1</td>\n",
       "      <td>0</td>\n",
       "      <td>0</td>\n",
       "      <td>1</td>\n",
       "      <td>9.02</td>\n",
       "      <td>13.635</td>\n",
       "      <td>80</td>\n",
       "      <td>0.0000</td>\n",
       "      <td>8</td>\n",
       "      <td>32</td>\n",
       "      <td>40</td>\n",
       "    </tr>\n",
       "    <tr>\n",
       "      <th>2</th>\n",
       "      <td>2011-01-01 02:00:00</td>\n",
       "      <td>1</td>\n",
       "      <td>0</td>\n",
       "      <td>0</td>\n",
       "      <td>1</td>\n",
       "      <td>9.02</td>\n",
       "      <td>13.635</td>\n",
       "      <td>80</td>\n",
       "      <td>0.0000</td>\n",
       "      <td>5</td>\n",
       "      <td>27</td>\n",
       "      <td>32</td>\n",
       "    </tr>\n",
       "    <tr>\n",
       "      <th>3</th>\n",
       "      <td>2011-01-01 03:00:00</td>\n",
       "      <td>1</td>\n",
       "      <td>0</td>\n",
       "      <td>0</td>\n",
       "      <td>1</td>\n",
       "      <td>9.84</td>\n",
       "      <td>14.395</td>\n",
       "      <td>75</td>\n",
       "      <td>0.0000</td>\n",
       "      <td>3</td>\n",
       "      <td>10</td>\n",
       "      <td>13</td>\n",
       "    </tr>\n",
       "    <tr>\n",
       "      <th>4</th>\n",
       "      <td>2011-01-01 04:00:00</td>\n",
       "      <td>1</td>\n",
       "      <td>0</td>\n",
       "      <td>0</td>\n",
       "      <td>1</td>\n",
       "      <td>9.84</td>\n",
       "      <td>14.395</td>\n",
       "      <td>75</td>\n",
       "      <td>0.0000</td>\n",
       "      <td>0</td>\n",
       "      <td>1</td>\n",
       "      <td>1</td>\n",
       "    </tr>\n",
       "    <tr>\n",
       "      <th>...</th>\n",
       "      <td>...</td>\n",
       "      <td>...</td>\n",
       "      <td>...</td>\n",
       "      <td>...</td>\n",
       "      <td>...</td>\n",
       "      <td>...</td>\n",
       "      <td>...</td>\n",
       "      <td>...</td>\n",
       "      <td>...</td>\n",
       "      <td>...</td>\n",
       "      <td>...</td>\n",
       "      <td>...</td>\n",
       "    </tr>\n",
       "    <tr>\n",
       "      <th>10881</th>\n",
       "      <td>2012-12-19 19:00:00</td>\n",
       "      <td>4</td>\n",
       "      <td>0</td>\n",
       "      <td>1</td>\n",
       "      <td>1</td>\n",
       "      <td>15.58</td>\n",
       "      <td>19.695</td>\n",
       "      <td>50</td>\n",
       "      <td>26.0027</td>\n",
       "      <td>7</td>\n",
       "      <td>329</td>\n",
       "      <td>336</td>\n",
       "    </tr>\n",
       "    <tr>\n",
       "      <th>10882</th>\n",
       "      <td>2012-12-19 20:00:00</td>\n",
       "      <td>4</td>\n",
       "      <td>0</td>\n",
       "      <td>1</td>\n",
       "      <td>1</td>\n",
       "      <td>14.76</td>\n",
       "      <td>17.425</td>\n",
       "      <td>57</td>\n",
       "      <td>15.0013</td>\n",
       "      <td>10</td>\n",
       "      <td>231</td>\n",
       "      <td>241</td>\n",
       "    </tr>\n",
       "    <tr>\n",
       "      <th>10883</th>\n",
       "      <td>2012-12-19 21:00:00</td>\n",
       "      <td>4</td>\n",
       "      <td>0</td>\n",
       "      <td>1</td>\n",
       "      <td>1</td>\n",
       "      <td>13.94</td>\n",
       "      <td>15.910</td>\n",
       "      <td>61</td>\n",
       "      <td>15.0013</td>\n",
       "      <td>4</td>\n",
       "      <td>164</td>\n",
       "      <td>168</td>\n",
       "    </tr>\n",
       "    <tr>\n",
       "      <th>10884</th>\n",
       "      <td>2012-12-19 22:00:00</td>\n",
       "      <td>4</td>\n",
       "      <td>0</td>\n",
       "      <td>1</td>\n",
       "      <td>1</td>\n",
       "      <td>13.94</td>\n",
       "      <td>17.425</td>\n",
       "      <td>61</td>\n",
       "      <td>6.0032</td>\n",
       "      <td>12</td>\n",
       "      <td>117</td>\n",
       "      <td>129</td>\n",
       "    </tr>\n",
       "    <tr>\n",
       "      <th>10885</th>\n",
       "      <td>2012-12-19 23:00:00</td>\n",
       "      <td>4</td>\n",
       "      <td>0</td>\n",
       "      <td>1</td>\n",
       "      <td>1</td>\n",
       "      <td>13.12</td>\n",
       "      <td>16.665</td>\n",
       "      <td>66</td>\n",
       "      <td>8.9981</td>\n",
       "      <td>4</td>\n",
       "      <td>84</td>\n",
       "      <td>88</td>\n",
       "    </tr>\n",
       "  </tbody>\n",
       "</table>\n",
       "<p>10886 rows × 12 columns</p>\n",
       "</div>"
      ],
      "text/plain": [
       "                  datetime  season  holiday  workingday  weather   temp  \\\n",
       "0      2011-01-01 00:00:00       1        0           0        1   9.84   \n",
       "1      2011-01-01 01:00:00       1        0           0        1   9.02   \n",
       "2      2011-01-01 02:00:00       1        0           0        1   9.02   \n",
       "3      2011-01-01 03:00:00       1        0           0        1   9.84   \n",
       "4      2011-01-01 04:00:00       1        0           0        1   9.84   \n",
       "...                    ...     ...      ...         ...      ...    ...   \n",
       "10881  2012-12-19 19:00:00       4        0           1        1  15.58   \n",
       "10882  2012-12-19 20:00:00       4        0           1        1  14.76   \n",
       "10883  2012-12-19 21:00:00       4        0           1        1  13.94   \n",
       "10884  2012-12-19 22:00:00       4        0           1        1  13.94   \n",
       "10885  2012-12-19 23:00:00       4        0           1        1  13.12   \n",
       "\n",
       "        atemp  humidity  windspeed  casual  registered  count  \n",
       "0      14.395        81     0.0000       3          13     16  \n",
       "1      13.635        80     0.0000       8          32     40  \n",
       "2      13.635        80     0.0000       5          27     32  \n",
       "3      14.395        75     0.0000       3          10     13  \n",
       "4      14.395        75     0.0000       0           1      1  \n",
       "...       ...       ...        ...     ...         ...    ...  \n",
       "10881  19.695        50    26.0027       7         329    336  \n",
       "10882  17.425        57    15.0013      10         231    241  \n",
       "10883  15.910        61    15.0013       4         164    168  \n",
       "10884  17.425        61     6.0032      12         117    129  \n",
       "10885  16.665        66     8.9981       4          84     88  \n",
       "\n",
       "[10886 rows x 12 columns]"
      ]
     },
     "execution_count": 2,
     "metadata": {},
     "output_type": "execute_result"
    }
   ],
   "source": [
    "# Carga da base de dados\n",
    "base = pd.read_csv('train.csv')\n",
    "base"
   ]
  },
  {
   "cell_type": "markdown",
   "id": "e61b8690-d24b-4499-9278-a462e75205a6",
   "metadata": {},
   "source": [
    "# 3. Processamento dos dados"
   ]
  },
  {
   "cell_type": "code",
   "execution_count": 3,
   "id": "151ad129-0b40-4fe1-bf46-ddabd814aec6",
   "metadata": {},
   "outputs": [
    {
     "data": {
      "text/html": [
       "<div>\n",
       "<style scoped>\n",
       "    .dataframe tbody tr th:only-of-type {\n",
       "        vertical-align: middle;\n",
       "    }\n",
       "\n",
       "    .dataframe tbody tr th {\n",
       "        vertical-align: top;\n",
       "    }\n",
       "\n",
       "    .dataframe thead th {\n",
       "        text-align: right;\n",
       "    }\n",
       "</style>\n",
       "<table border=\"1\" class=\"dataframe\">\n",
       "  <thead>\n",
       "    <tr style=\"text-align: right;\">\n",
       "      <th></th>\n",
       "      <th>season</th>\n",
       "      <th>holiday</th>\n",
       "      <th>workingday</th>\n",
       "      <th>weather</th>\n",
       "      <th>temp</th>\n",
       "      <th>atemp</th>\n",
       "      <th>humidity</th>\n",
       "      <th>windspeed</th>\n",
       "      <th>casual</th>\n",
       "      <th>registered</th>\n",
       "      <th>count</th>\n",
       "    </tr>\n",
       "    <tr>\n",
       "      <th>datetime</th>\n",
       "      <th></th>\n",
       "      <th></th>\n",
       "      <th></th>\n",
       "      <th></th>\n",
       "      <th></th>\n",
       "      <th></th>\n",
       "      <th></th>\n",
       "      <th></th>\n",
       "      <th></th>\n",
       "      <th></th>\n",
       "      <th></th>\n",
       "    </tr>\n",
       "  </thead>\n",
       "  <tbody>\n",
       "    <tr>\n",
       "      <th>2011-01-01 00:00:00</th>\n",
       "      <td>1</td>\n",
       "      <td>0</td>\n",
       "      <td>0</td>\n",
       "      <td>1</td>\n",
       "      <td>9.84</td>\n",
       "      <td>14.395</td>\n",
       "      <td>81</td>\n",
       "      <td>0.0000</td>\n",
       "      <td>3</td>\n",
       "      <td>13</td>\n",
       "      <td>16</td>\n",
       "    </tr>\n",
       "    <tr>\n",
       "      <th>2011-01-01 01:00:00</th>\n",
       "      <td>1</td>\n",
       "      <td>0</td>\n",
       "      <td>0</td>\n",
       "      <td>1</td>\n",
       "      <td>9.02</td>\n",
       "      <td>13.635</td>\n",
       "      <td>80</td>\n",
       "      <td>0.0000</td>\n",
       "      <td>8</td>\n",
       "      <td>32</td>\n",
       "      <td>40</td>\n",
       "    </tr>\n",
       "    <tr>\n",
       "      <th>2011-01-01 02:00:00</th>\n",
       "      <td>1</td>\n",
       "      <td>0</td>\n",
       "      <td>0</td>\n",
       "      <td>1</td>\n",
       "      <td>9.02</td>\n",
       "      <td>13.635</td>\n",
       "      <td>80</td>\n",
       "      <td>0.0000</td>\n",
       "      <td>5</td>\n",
       "      <td>27</td>\n",
       "      <td>32</td>\n",
       "    </tr>\n",
       "    <tr>\n",
       "      <th>2011-01-01 03:00:00</th>\n",
       "      <td>1</td>\n",
       "      <td>0</td>\n",
       "      <td>0</td>\n",
       "      <td>1</td>\n",
       "      <td>9.84</td>\n",
       "      <td>14.395</td>\n",
       "      <td>75</td>\n",
       "      <td>0.0000</td>\n",
       "      <td>3</td>\n",
       "      <td>10</td>\n",
       "      <td>13</td>\n",
       "    </tr>\n",
       "    <tr>\n",
       "      <th>2011-01-01 04:00:00</th>\n",
       "      <td>1</td>\n",
       "      <td>0</td>\n",
       "      <td>0</td>\n",
       "      <td>1</td>\n",
       "      <td>9.84</td>\n",
       "      <td>14.395</td>\n",
       "      <td>75</td>\n",
       "      <td>0.0000</td>\n",
       "      <td>0</td>\n",
       "      <td>1</td>\n",
       "      <td>1</td>\n",
       "    </tr>\n",
       "    <tr>\n",
       "      <th>...</th>\n",
       "      <td>...</td>\n",
       "      <td>...</td>\n",
       "      <td>...</td>\n",
       "      <td>...</td>\n",
       "      <td>...</td>\n",
       "      <td>...</td>\n",
       "      <td>...</td>\n",
       "      <td>...</td>\n",
       "      <td>...</td>\n",
       "      <td>...</td>\n",
       "      <td>...</td>\n",
       "    </tr>\n",
       "    <tr>\n",
       "      <th>2012-12-19 19:00:00</th>\n",
       "      <td>4</td>\n",
       "      <td>0</td>\n",
       "      <td>1</td>\n",
       "      <td>1</td>\n",
       "      <td>15.58</td>\n",
       "      <td>19.695</td>\n",
       "      <td>50</td>\n",
       "      <td>26.0027</td>\n",
       "      <td>7</td>\n",
       "      <td>329</td>\n",
       "      <td>336</td>\n",
       "    </tr>\n",
       "    <tr>\n",
       "      <th>2012-12-19 20:00:00</th>\n",
       "      <td>4</td>\n",
       "      <td>0</td>\n",
       "      <td>1</td>\n",
       "      <td>1</td>\n",
       "      <td>14.76</td>\n",
       "      <td>17.425</td>\n",
       "      <td>57</td>\n",
       "      <td>15.0013</td>\n",
       "      <td>10</td>\n",
       "      <td>231</td>\n",
       "      <td>241</td>\n",
       "    </tr>\n",
       "    <tr>\n",
       "      <th>2012-12-19 21:00:00</th>\n",
       "      <td>4</td>\n",
       "      <td>0</td>\n",
       "      <td>1</td>\n",
       "      <td>1</td>\n",
       "      <td>13.94</td>\n",
       "      <td>15.910</td>\n",
       "      <td>61</td>\n",
       "      <td>15.0013</td>\n",
       "      <td>4</td>\n",
       "      <td>164</td>\n",
       "      <td>168</td>\n",
       "    </tr>\n",
       "    <tr>\n",
       "      <th>2012-12-19 22:00:00</th>\n",
       "      <td>4</td>\n",
       "      <td>0</td>\n",
       "      <td>1</td>\n",
       "      <td>1</td>\n",
       "      <td>13.94</td>\n",
       "      <td>17.425</td>\n",
       "      <td>61</td>\n",
       "      <td>6.0032</td>\n",
       "      <td>12</td>\n",
       "      <td>117</td>\n",
       "      <td>129</td>\n",
       "    </tr>\n",
       "    <tr>\n",
       "      <th>2012-12-19 23:00:00</th>\n",
       "      <td>4</td>\n",
       "      <td>0</td>\n",
       "      <td>1</td>\n",
       "      <td>1</td>\n",
       "      <td>13.12</td>\n",
       "      <td>16.665</td>\n",
       "      <td>66</td>\n",
       "      <td>8.9981</td>\n",
       "      <td>4</td>\n",
       "      <td>84</td>\n",
       "      <td>88</td>\n",
       "    </tr>\n",
       "  </tbody>\n",
       "</table>\n",
       "<p>10886 rows × 11 columns</p>\n",
       "</div>"
      ],
      "text/plain": [
       "                     season  holiday  workingday  weather   temp   atemp  \\\n",
       "datetime                                                                   \n",
       "2011-01-01 00:00:00       1        0           0        1   9.84  14.395   \n",
       "2011-01-01 01:00:00       1        0           0        1   9.02  13.635   \n",
       "2011-01-01 02:00:00       1        0           0        1   9.02  13.635   \n",
       "2011-01-01 03:00:00       1        0           0        1   9.84  14.395   \n",
       "2011-01-01 04:00:00       1        0           0        1   9.84  14.395   \n",
       "...                     ...      ...         ...      ...    ...     ...   \n",
       "2012-12-19 19:00:00       4        0           1        1  15.58  19.695   \n",
       "2012-12-19 20:00:00       4        0           1        1  14.76  17.425   \n",
       "2012-12-19 21:00:00       4        0           1        1  13.94  15.910   \n",
       "2012-12-19 22:00:00       4        0           1        1  13.94  17.425   \n",
       "2012-12-19 23:00:00       4        0           1        1  13.12  16.665   \n",
       "\n",
       "                     humidity  windspeed  casual  registered  count  \n",
       "datetime                                                             \n",
       "2011-01-01 00:00:00        81     0.0000       3          13     16  \n",
       "2011-01-01 01:00:00        80     0.0000       8          32     40  \n",
       "2011-01-01 02:00:00        80     0.0000       5          27     32  \n",
       "2011-01-01 03:00:00        75     0.0000       3          10     13  \n",
       "2011-01-01 04:00:00        75     0.0000       0           1      1  \n",
       "...                       ...        ...     ...         ...    ...  \n",
       "2012-12-19 19:00:00        50    26.0027       7         329    336  \n",
       "2012-12-19 20:00:00        57    15.0013      10         231    241  \n",
       "2012-12-19 21:00:00        61    15.0013       4         164    168  \n",
       "2012-12-19 22:00:00        61     6.0032      12         117    129  \n",
       "2012-12-19 23:00:00        66     8.9981       4          84     88  \n",
       "\n",
       "[10886 rows x 11 columns]"
      ]
     },
     "execution_count": 3,
     "metadata": {},
     "output_type": "execute_result"
    }
   ],
   "source": [
    "# Substitui index pela data\n",
    "base = pd.read_csv('train.csv', parse_dates=['datetime'], index_col=0)\n",
    "base"
   ]
  },
  {
   "cell_type": "code",
   "execution_count": 6,
   "id": "1eac2f07-7991-4645-8f95-233587a6e397",
   "metadata": {},
   "outputs": [
    {
     "data": {
      "text/html": [
       "<div>\n",
       "<style scoped>\n",
       "    .dataframe tbody tr th:only-of-type {\n",
       "        vertical-align: middle;\n",
       "    }\n",
       "\n",
       "    .dataframe tbody tr th {\n",
       "        vertical-align: top;\n",
       "    }\n",
       "\n",
       "    .dataframe thead th {\n",
       "        text-align: right;\n",
       "    }\n",
       "</style>\n",
       "<table border=\"1\" class=\"dataframe\">\n",
       "  <thead>\n",
       "    <tr style=\"text-align: right;\">\n",
       "      <th></th>\n",
       "      <th>count</th>\n",
       "    </tr>\n",
       "    <tr>\n",
       "      <th>datetime</th>\n",
       "      <th></th>\n",
       "    </tr>\n",
       "  </thead>\n",
       "  <tbody>\n",
       "    <tr>\n",
       "      <th>2011-01-01 00:00:00</th>\n",
       "      <td>16</td>\n",
       "    </tr>\n",
       "    <tr>\n",
       "      <th>2011-01-01 01:00:00</th>\n",
       "      <td>40</td>\n",
       "    </tr>\n",
       "    <tr>\n",
       "      <th>2011-01-01 02:00:00</th>\n",
       "      <td>32</td>\n",
       "    </tr>\n",
       "    <tr>\n",
       "      <th>2011-01-01 03:00:00</th>\n",
       "      <td>13</td>\n",
       "    </tr>\n",
       "    <tr>\n",
       "      <th>2011-01-01 04:00:00</th>\n",
       "      <td>1</td>\n",
       "    </tr>\n",
       "    <tr>\n",
       "      <th>...</th>\n",
       "      <td>...</td>\n",
       "    </tr>\n",
       "    <tr>\n",
       "      <th>2012-12-19 19:00:00</th>\n",
       "      <td>336</td>\n",
       "    </tr>\n",
       "    <tr>\n",
       "      <th>2012-12-19 20:00:00</th>\n",
       "      <td>241</td>\n",
       "    </tr>\n",
       "    <tr>\n",
       "      <th>2012-12-19 21:00:00</th>\n",
       "      <td>168</td>\n",
       "    </tr>\n",
       "    <tr>\n",
       "      <th>2012-12-19 22:00:00</th>\n",
       "      <td>129</td>\n",
       "    </tr>\n",
       "    <tr>\n",
       "      <th>2012-12-19 23:00:00</th>\n",
       "      <td>88</td>\n",
       "    </tr>\n",
       "  </tbody>\n",
       "</table>\n",
       "<p>10886 rows × 1 columns</p>\n",
       "</div>"
      ],
      "text/plain": [
       "                     count\n",
       "datetime                  \n",
       "2011-01-01 00:00:00     16\n",
       "2011-01-01 01:00:00     40\n",
       "2011-01-01 02:00:00     32\n",
       "2011-01-01 03:00:00     13\n",
       "2011-01-01 04:00:00      1\n",
       "...                    ...\n",
       "2012-12-19 19:00:00    336\n",
       "2012-12-19 20:00:00    241\n",
       "2012-12-19 21:00:00    168\n",
       "2012-12-19 22:00:00    129\n",
       "2012-12-19 23:00:00     88\n",
       "\n",
       "[10886 rows x 1 columns]"
      ]
     },
     "execution_count": 6,
     "metadata": {},
     "output_type": "execute_result"
    }
   ],
   "source": [
    "# Drop das colunas, mantém apenas data e valor\n",
    "base.drop(columns = ['season', 'holiday','workingday','weather','temp','atemp', 'humidity','windspeed','casual', 'registered'], axis=1, inplace = True)\n",
    "base"
   ]
  },
  {
   "cell_type": "code",
   "execution_count": 7,
   "id": "9e7bf5a7-7dc0-4d23-a1eb-e4d26a236d89",
   "metadata": {},
   "outputs": [
    {
     "data": {
      "text/html": [
       "<div>\n",
       "<style scoped>\n",
       "    .dataframe tbody tr th:only-of-type {\n",
       "        vertical-align: middle;\n",
       "    }\n",
       "\n",
       "    .dataframe tbody tr th {\n",
       "        vertical-align: top;\n",
       "    }\n",
       "\n",
       "    .dataframe thead th {\n",
       "        text-align: right;\n",
       "    }\n",
       "</style>\n",
       "<table border=\"1\" class=\"dataframe\">\n",
       "  <thead>\n",
       "    <tr style=\"text-align: right;\">\n",
       "      <th></th>\n",
       "      <th>count</th>\n",
       "    </tr>\n",
       "    <tr>\n",
       "      <th>datetime</th>\n",
       "      <th></th>\n",
       "    </tr>\n",
       "  </thead>\n",
       "  <tbody>\n",
       "    <tr>\n",
       "      <th>2011-01-01</th>\n",
       "      <td>985</td>\n",
       "    </tr>\n",
       "    <tr>\n",
       "      <th>2011-01-02</th>\n",
       "      <td>801</td>\n",
       "    </tr>\n",
       "    <tr>\n",
       "      <th>2011-01-03</th>\n",
       "      <td>1349</td>\n",
       "    </tr>\n",
       "    <tr>\n",
       "      <th>2011-01-04</th>\n",
       "      <td>1562</td>\n",
       "    </tr>\n",
       "    <tr>\n",
       "      <th>2011-01-05</th>\n",
       "      <td>1600</td>\n",
       "    </tr>\n",
       "    <tr>\n",
       "      <th>...</th>\n",
       "      <td>...</td>\n",
       "    </tr>\n",
       "    <tr>\n",
       "      <th>2012-12-15</th>\n",
       "      <td>5047</td>\n",
       "    </tr>\n",
       "    <tr>\n",
       "      <th>2012-12-16</th>\n",
       "      <td>3786</td>\n",
       "    </tr>\n",
       "    <tr>\n",
       "      <th>2012-12-17</th>\n",
       "      <td>4585</td>\n",
       "    </tr>\n",
       "    <tr>\n",
       "      <th>2012-12-18</th>\n",
       "      <td>5557</td>\n",
       "    </tr>\n",
       "    <tr>\n",
       "      <th>2012-12-19</th>\n",
       "      <td>5267</td>\n",
       "    </tr>\n",
       "  </tbody>\n",
       "</table>\n",
       "<p>719 rows × 1 columns</p>\n",
       "</div>"
      ],
      "text/plain": [
       "            count\n",
       "datetime         \n",
       "2011-01-01    985\n",
       "2011-01-02    801\n",
       "2011-01-03   1349\n",
       "2011-01-04   1562\n",
       "2011-01-05   1600\n",
       "...           ...\n",
       "2012-12-15   5047\n",
       "2012-12-16   3786\n",
       "2012-12-17   4585\n",
       "2012-12-18   5557\n",
       "2012-12-19   5267\n",
       "\n",
       "[719 rows x 1 columns]"
      ]
     },
     "execution_count": 7,
     "metadata": {},
     "output_type": "execute_result"
    }
   ],
   "source": [
    "# Agroupamento por dia\n",
    "base = base.groupby(pd.Grouper(freq = 'D')).sum()\n",
    "base"
   ]
  },
  {
   "cell_type": "code",
   "execution_count": 9,
   "id": "47b2378c-0866-4551-a313-926d9aa6d329",
   "metadata": {},
   "outputs": [
    {
     "name": "stdout",
     "output_type": "stream",
     "text": [
      "(719, 1)\n",
      "(689, 1)\n"
     ]
    }
   ],
   "source": [
    "# Divisão de treino e teste\n",
    "base_teste = base.copy()\n",
    "base_treinamento = base.iloc[0:689,:]\n",
    "\n",
    "# Visualiza o shape dos dados\n",
    "print(base_teste.shape)\n",
    "print(base_treinamento.shape)"
   ]
  },
  {
   "cell_type": "code",
   "execution_count": 14,
   "id": "0ef28a1d-9202-4be8-bf16-50d249fb48f1",
   "metadata": {},
   "outputs": [
    {
     "data": {
      "text/plain": [
       "(Timestamp('2011-01-01 00:00:00', freq='D'),\n",
       " Timestamp('2012-11-19 00:00:00', freq='D'))"
      ]
     },
     "execution_count": 14,
     "metadata": {},
     "output_type": "execute_result"
    }
   ],
   "source": [
    "# Primeira e última data na base de treino\n",
    "base_treinamento.index.min(), base_treinamento.index.max()"
   ]
  },
  {
   "cell_type": "code",
   "execution_count": 15,
   "id": "7156d0b8-3d94-45a4-a3c9-f4832a56fdbe",
   "metadata": {},
   "outputs": [
    {
     "data": {
      "text/plain": [
       "(Timestamp('2011-01-01 00:00:00', freq='D'),\n",
       " Timestamp('2012-12-19 00:00:00', freq='D'))"
      ]
     },
     "execution_count": 15,
     "metadata": {},
     "output_type": "execute_result"
    }
   ],
   "source": [
    "# Primeira e última data na base de teste\n",
    "base_teste.index.min(), base_teste.index.max()"
   ]
  },
  {
   "cell_type": "code",
   "execution_count": 21,
   "id": "7cab7d89-23fc-48a7-82ab-3303f72b1586",
   "metadata": {},
   "outputs": [
    {
     "name": "stderr",
     "output_type": "stream",
     "text": [
      "/tmp/ipykernel_201/3675250973.py:2: FutureWarning: The 'freq' argument in Timestamp is deprecated and will be removed in a future version.\n",
      "  dt_data_inicial = pd.Timestamp(\"2011-01-01\", freq = 'D')\n",
      "/tmp/ipykernel_201/3675250973.py:3: FutureWarning: The 'freq' argument in Timestamp is deprecated and will be removed in a future version.\n",
      "  dt_data_final_treinamento = pd.Timestamp(\"2012-11-19\", freq = 'D')\n",
      "/tmp/ipykernel_201/3675250973.py:4: FutureWarning: The 'freq' argument in Timestamp is deprecated and will be removed in a future version.\n",
      "  dt_previsao_maxima = pd.Timestamp(\"2012-12-19\", freq = 'D')\n"
     ]
    }
   ],
   "source": [
    "# Separa os períodos em treino e teste no formato datetime\n",
    "dt_data_inicial = pd.Timestamp(\"2011-01-01\", freq = 'D')\n",
    "dt_data_final_treinamento = pd.Timestamp(\"2012-11-19\", freq = 'D')\n",
    "dt_previsao_maxima = pd.Timestamp(\"2012-12-19\", freq = 'D')\n",
    "\n",
    "faixa_treinamento = (dt_data_inicial, dt_data_final_treinamento)\n",
    "faixa_teste = (dt_data_inicial, dt_previsao_maxima)"
   ]
  },
  {
   "cell_type": "code",
   "execution_count": 22,
   "id": "03183868-3f67-4d62-8ec3-d8e3704c9cf5",
   "metadata": {},
   "outputs": [
    {
     "data": {
      "text/plain": [
       "(Timestamp('2011-01-01 00:00:00', freq='D'),\n",
       " Timestamp('2012-11-19 00:00:00', freq='D'))"
      ]
     },
     "execution_count": 22,
     "metadata": {},
     "output_type": "execute_result"
    }
   ],
   "source": [
    "# Período do treino\n",
    "faixa_treinamento"
   ]
  },
  {
   "cell_type": "code",
   "execution_count": 23,
   "id": "3d5b4a60-42ff-4f61-8f02-de5a10567e5b",
   "metadata": {},
   "outputs": [
    {
     "data": {
      "text/plain": [
       "(Timestamp('2011-01-01 00:00:00', freq='D'),\n",
       " Timestamp('2012-12-19 00:00:00', freq='D'))"
      ]
     },
     "execution_count": 23,
     "metadata": {},
     "output_type": "execute_result"
    }
   ],
   "source": [
    "# Período do teste\n",
    "faixa_teste"
   ]
  },
  {
   "cell_type": "code",
   "execution_count": 24,
   "id": "34abed2c-cd1a-4820-9e28-602ef4be1181",
   "metadata": {},
   "outputs": [],
   "source": [
    "# Série de treino e teste para o modelo\n",
    "\n",
    "# Cria objeto do tipo lista\n",
    "serie_temporal_treinamento = []\n",
    "serie_temporal_teste = []\n",
    "\n",
    "# Inclui dados do tipo datetime em treino e teste\n",
    "serie_temporal_treinamento.append(base_treinamento[faixa_treinamento[0]:faixa_treinamento[1]]['count'])\n",
    "serie_temporal_teste.append(base_teste[faixa_teste[0]:faixa_teste[1]]['count'])"
   ]
  },
  {
   "cell_type": "code",
   "execution_count": 25,
   "id": "a055370a-cdac-4ba3-8fca-19a27b42be06",
   "metadata": {},
   "outputs": [
    {
     "data": {
      "text/plain": [
       "(list, list)"
      ]
     },
     "execution_count": 25,
     "metadata": {},
     "output_type": "execute_result"
    }
   ],
   "source": [
    "# Verifica tipo dos dados\n",
    "type(serie_temporal_treinamento), type(serie_temporal_teste)"
   ]
  },
  {
   "cell_type": "code",
   "execution_count": 27,
   "id": "9627b864-15ef-4f93-b359-44e30e8f2876",
   "metadata": {},
   "outputs": [
    {
     "data": {
      "text/plain": [
       "[datetime\n",
       " 2011-01-01     985\n",
       " 2011-01-02     801\n",
       " 2011-01-03    1349\n",
       " 2011-01-04    1562\n",
       " 2011-01-05    1600\n",
       "               ... \n",
       " 2012-11-15    5445\n",
       " 2012-11-16    5698\n",
       " 2012-11-17    5629\n",
       " 2012-11-18    4669\n",
       " 2012-11-19    5499\n",
       " Freq: D, Name: count, Length: 689, dtype: int64]"
      ]
     },
     "execution_count": 27,
     "metadata": {},
     "output_type": "execute_result"
    }
   ],
   "source": [
    "# Visualiza treino\n",
    "serie_temporal_treinamento"
   ]
  },
  {
   "cell_type": "code",
   "execution_count": 28,
   "id": "0243f5c8-c0f2-4605-9ced-d247c66017f8",
   "metadata": {},
   "outputs": [
    {
     "data": {
      "text/plain": [
       "[datetime\n",
       " 2011-01-01     985\n",
       " 2011-01-02     801\n",
       " 2011-01-03    1349\n",
       " 2011-01-04    1562\n",
       " 2011-01-05    1600\n",
       "               ... \n",
       " 2012-12-15    5047\n",
       " 2012-12-16    3786\n",
       " 2012-12-17    4585\n",
       " 2012-12-18    5557\n",
       " 2012-12-19    5267\n",
       " Freq: D, Name: count, Length: 719, dtype: int64]"
      ]
     },
     "execution_count": 28,
     "metadata": {},
     "output_type": "execute_result"
    }
   ],
   "source": [
    "# Visualiza teste\n",
    "serie_temporal_teste"
   ]
  },
  {
   "cell_type": "code",
   "execution_count": 29,
   "id": "24df24cf-4453-4e56-a84f-3f4410e71fa8",
   "metadata": {},
   "outputs": [
    {
     "data": {
      "text/plain": [
       "(689, 719)"
      ]
     },
     "execution_count": 29,
     "metadata": {},
     "output_type": "execute_result"
    }
   ],
   "source": [
    "# tamanho do treino e teste\n",
    "len(serie_temporal_treinamento[0]), len(serie_temporal_teste[0])"
   ]
  },
  {
   "cell_type": "code",
   "execution_count": 30,
   "id": "ced73c44-8ef6-4563-b513-84889c1dbf07",
   "metadata": {},
   "outputs": [
    {
     "data": {
      "image/png": "[encoded data removed]",
      "text/plain": [
       "<Figure size 1000x1000 with 1 Axes>"
      ]
     },
     "metadata": {},
     "output_type": "display_data"
    }
   ],
   "source": [
    "# plot dos dados\n",
    "plt.figure(figsize=(10,10))\n",
    "serie_temporal_teste[0].plot(label = \"Teste\")\n",
    "serie_temporal_treinamento[0].plot(label = \"Treinamento\")\n",
    "plt.legend()\n",
    "plt.show()"
   ]
  },
  {
   "cell_type": "markdown",
   "id": "957ed6b0-6c7a-4eff-b109-27f3e5628c0e",
   "metadata": {},
   "source": [
    "## 3.1 Preparação dos dados para enviar ao SageMaker"
   ]
  },
  {
   "cell_type": "code",
   "execution_count": 31,
   "id": "952e47e8-745b-43c9-a453-335b36cbb0aa",
   "metadata": {},
   "outputs": [],
   "source": [
    "# Função para retornar a quantidades de bikes alugadas\n",
    "def encode_target(ts):\n",
    "    return [x if np.isfinite(x) else \"NaN\" for x in ts]"
   ]
  },
  {
   "cell_type": "code",
   "execution_count": 33,
   "id": "4426a181-1b5d-483d-91dc-4c91e919a616",
   "metadata": {},
   "outputs": [
    {
     "data": {
      "text/plain": [
       "[985,\n",
       " 801,\n",
       " 1349,\n",
       " 1562,\n",
       " 1600,\n",
       " 1606,\n",
       " 1510,\n",
       " 959,\n",
       " 822,\n",
       " 1321,\n",
       " 1263,\n",
       " 1162,\n",
       " 1406,\n",
       " 1421,\n",
       " 1248,\n",
       " 1204,\n",
       " 1000,\n",
       " 683,\n",
       " 1650,\n",
       " 0,\n",
       " 0,\n",
       " 0,\n",
       " 0,\n",
       " 0,\n",
       " 0]"
      ]
     },
     "execution_count": 33,
     "metadata": {},
     "output_type": "execute_result"
    }
   ],
   "source": [
    "# Visualiza um exemplo de aplicação da função\n",
    "encode_target(serie_temporal_treinamento[0][0:25])"
   ]
  },
  {
   "cell_type": "code",
   "execution_count": 34,
   "id": "3910cb91-689c-4985-9f61-2494c47f3c3b",
   "metadata": {},
   "outputs": [],
   "source": [
    "# Funação para converter time series em tipo objeto dicionário\n",
    "def series_to_obj(ts):\n",
    "    obj = {\"start\": str(ts.index[0]), \"target\": encode_target(ts)}\n",
    "    return obj"
   ]
  },
  {
   "cell_type": "code",
   "execution_count": 36,
   "id": "b60a493d-658e-4fd2-beab-b1161b8ff97e",
   "metadata": {},
   "outputs": [
    {
     "data": {
      "text/plain": [
       "{'start': '2011-01-01 00:00:00', 'target': [985, 801, 1349, 1562, 1600]}"
      ]
     },
     "execution_count": 36,
     "metadata": {},
     "output_type": "execute_result"
    }
   ],
   "source": [
    "# Visualiza os dados como exemplo aplicando a função\n",
    "series_to_obj(serie_temporal_treinamento[0][0:5])"
   ]
  },
  {
   "cell_type": "code",
   "execution_count": 37,
   "id": "f83d482a-cf66-4c3b-94ba-404c4d553701",
   "metadata": {},
   "outputs": [],
   "source": [
    "# Função que comverte os dados em tipo json\n",
    "def series_to_jsonline(ts):\n",
    "    return json.dumps(series_to_obj(ts))"
   ]
  },
  {
   "cell_type": "code",
   "execution_count": 39,
   "id": "9eeb0a6a-6ca1-4a4c-b8be-b764a4815aaf",
   "metadata": {},
   "outputs": [
    {
     "data": {
      "text/plain": [
       "'{\"start\": \"2011-01-01 00:00:00\", \"target\": [985, 801, 1349, 1562, 1600]}'"
      ]
     },
     "execution_count": 39,
     "metadata": {},
     "output_type": "execute_result"
    }
   ],
   "source": [
    "# Visualiza os dados como exemplo aplicando a função\n",
    "series_to_jsonline(serie_temporal_treinamento[0][0:5])"
   ]
  },
  {
   "cell_type": "code",
   "execution_count": 40,
   "id": "2e7bbbc9-ddc3-4562-80e9-06e94481142a",
   "metadata": {},
   "outputs": [],
   "source": [
    "# Configura os parâmetros para criar um arquivo json com os dados de treino e teste\n",
    "\n",
    "encoding = 'utf-8' #condificação do arquivo\n",
    "arquivo_json_treinamento = 'train.json' #arquivo de treino\n",
    "arquivo_json_teste = 'test.json' #arquivo de teste\n",
    "\n",
    "#Função que cria o arquivo de treinamento\n",
    "with open(arquivo_json_treinamento, 'wb') as fp:\n",
    "    for ts in serie_temporal_treinamento:\n",
    "        fp.write(series_to_jsonline(ts).encode(encoding))\n",
    "        fp.write('\\n'.encode(encoding))\n",
    "\n",
    "# Função que cria o arquivo de teste\n",
    "with open(arquivo_json_teste, 'wb') as fp:\n",
    "    for ts in serie_temporal_teste:\n",
    "        fp.write(series_to_jsonline(ts).encode(encoding))\n",
    "        fp.write('\\n'.encode(encoding))"
   ]
  },
  {
   "cell_type": "markdown",
   "id": "4e6c60c5-6eae-4a31-a0eb-4ddfac5ad6af",
   "metadata": {},
   "source": [
    "# 4. Configuração do SageMaker"
   ]
  },
  {
   "cell_type": "markdown",
   "id": "e5058003-6328-4646-a55d-3d93b039c59c",
   "metadata": {},
   "source": [
    "Capítulo onde é feita toda a configuração do SageMaker no ambiente AWS. Toda a configuração foi comentada devido problemas para rodar o AWS devido as cobranças com cartão de crédito."
   ]
  },
  {
   "cell_type": "code",
   "execution_count": null,
   "id": "2905dc4f-904b-43dc-b33f-63d187fc05e2",
   "metadata": {},
   "outputs": [],
   "source": [
    "# Cria sessões e bem como caminhos de pasta para armazenamento dos datasets do modelo\n",
    "\n",
    "session = sagemaker.Session() #Sessão do SageMaker\n",
    "role = sagemaker.get_execution_role() # Identifica as permissões do SageMaker que foi feita quando criado o usuário\n",
    "job_name = 'deepar-bike' # nome para o treino do modelo\n",
    "bucket = 'cursoawssagemaker' # Envia o dataset binário para o bucket do S3\n",
    "subpasta_dataset = 'datasets/bike' # Pasta para armazenar a base de dados\n",
    "subpasta_modelo = 'modelos/bike/deepar' # Pasta para armazenar o modelo do SageMaker\n",
    "s3_train_data = 's3://{}/{}/train/{}'.format(bucket, subpasta_dataset, 'train.json') # Pasta para a base de trainamento do modelo\n",
    "s3_test_data = 's3://{}/{}/test/{}'.format(bucket, subpasta_dataset, 'test.json') # Pasta para a base de teste do modelo\n",
    "output_location = 's3://{}/{}/output'.format(bucket, subpasta_modelo) # Pasta para a base de trainamento do modelo\n",
    "\n",
    "# Visualização das variáveis\n",
    "print('Role: {}'.format(role))\n",
    "print('Localização da base de treinamento: {}'.format(s3_train_data))\n",
    "print('Localização da base de teste: {}'.format(s3_test_data))\n",
    "print('Modelo será salvo em: {}'.format(output_location))"
   ]
  },
  {
   "cell_type": "code",
   "execution_count": null,
   "id": "ed312f9c-e9e9-4cc3-84ff-84ec5278e51d",
   "metadata": {},
   "outputs": [],
   "source": [
    "# Função para Upload dos dados para o S3\n",
    "def escreve_s3(arquivo, bucket, nome):\n",
    "    with open(arquivo, 'rb') as f:\n",
    "        return boto3.Session().resource('s3').Bucket(bucket).Object(nome).upload_fileobj(f)"
   ]
  },
  {
   "cell_type": "code",
   "execution_count": null,
   "id": "1aa6dd6f-659d-495b-97d7-37d18f3a746f",
   "metadata": {},
   "outputs": [],
   "source": [
    "# Upload dos dados para o S3\n",
    "escreve_s3('train.json', bucket, os.path.join(subpasta_dataset, 'train', 'train.json'))\n",
    "escreve_s3('test.json', bucket, os.path.join(subpasta_dataset, 'test', 'test.json'))"
   ]
  },
  {
   "cell_type": "code",
   "execution_count": null,
   "id": "e3a8c072-4122-4652-8c2c-77c4699981e6",
   "metadata": {},
   "outputs": [],
   "source": [
    "# Visualiza o caminho das pastas\n",
    "print(os.path.join(subpasta_dataset, 'train', 'train.json'))\n",
    "print(os.path.join(subpasta_dataset, 'test', 'test.json'))"
   ]
  },
  {
   "cell_type": "markdown",
   "id": "92b4aae5-bcb7-46ef-86c5-9b2942ba906b",
   "metadata": {},
   "source": [
    "# 5. Treinamento do DeepAR"
   ]
  },
  {
   "cell_type": "code",
   "execution_count": null,
   "id": "64d46aea-4e02-4941-b71d-fdb6dcb50c37",
   "metadata": {},
   "outputs": [],
   "source": [
    "# Criar container do AWS que importa o DeepAr\n",
    "container = sagemaker.image_uris.retrieve(framework = 'forecasting-deepar', region = session.boto_region_name)"
   ]
  },
  {
   "cell_type": "code",
   "execution_count": null,
   "id": "511eeae3-71fd-4281-9d17-d8e5d8cdbe0c",
   "metadata": {},
   "outputs": [],
   "source": [
    "# Cria modelo do DeepAR\n",
    "deepar = sagemaker.estimator.Estimator(image_uri = container, # Acesso ao algoritmo\n",
    "                                       role = role, # Permissões SageMaker\n",
    "                                       instance_count = 1, # Número de instância do SageMaker\n",
    "                                       instance_type = 'ml.m5.large',  # Instância do SageMaker\n",
    "                                       output_path = output_location, # Saíde do modelo\n",
    "                                       sagemaker_session = session, # Sessão do SageMaker\n",
    "                                       base_job_name = job_name, # nome para o treino do modelo\n",
    "                                       use_spot_instances = True, # Reduz os custos de treinamento\n",
    "                                       max_run = 3600, # Tempo em segundos de espera para o treino\n",
    "                                       max_wait = 3600) # Tempo em segundos para que uma instância ociosa seja encontrada"
   ]
  },
  {
   "cell_type": "code",
   "execution_count": null,
   "id": "3bdfe708-5059-40fa-9db8-dd8940d33fa1",
   "metadata": {},
   "outputs": [],
   "source": [
    "# Ajuste dos hiperparâmetros\n",
    "freq = 'D'\n",
    "prediction_length = 30\n",
    "context_length = 30"
   ]
  },
  {
   "cell_type": "code",
   "execution_count": null,
   "id": "b9bd008b-7e4e-4504-b011-c907cb7a8d97",
   "metadata": {},
   "outputs": [],
   "source": [
    "# Dicionário com os hiperparâmetros\n",
    "hyperparametros = {\n",
    "    'time_freq': freq,\n",
    "    'epochs': \"20\",\n",
    "    'context_length': str(context_length),\n",
    "    'prediction_length': str(prediction_length)\n",
    "}"
   ]
  },
  {
   "cell_type": "code",
   "execution_count": null,
   "id": "55c1413a-28cf-4e05-8bc8-2aa9eb739b0e",
   "metadata": {},
   "outputs": [],
   "source": [
    "# Aplica os hiperparâmetros\n",
    "deepar.set_hyperparameters(**hyperparametros)"
   ]
  },
  {
   "cell_type": "code",
   "execution_count": null,
   "id": "af97389c-c0ce-4680-aa58-e80c4d3dc44d",
   "metadata": {},
   "outputs": [],
   "source": [
    "# Cria nova variável que une treino e teste\n",
    "data_channels = {'train': s3_train_data, 'test': s3_test_data}\n",
    "data_channels"
   ]
  },
  {
   "cell_type": "code",
   "execution_count": null,
   "id": "bec431c3-957a-4d77-985e-028557147000",
   "metadata": {},
   "outputs": [],
   "source": [
    "# Fit do modelo\n",
    "deepar.fit(inputs = data_channels)"
   ]
  },
  {
   "cell_type": "markdown",
   "id": "2d08118b-c40c-49a2-985c-4fdbaf6fa136",
   "metadata": {},
   "source": [
    "# 6. Deploy e previsões"
   ]
  },
  {
   "cell_type": "code",
   "execution_count": null,
   "id": "4d43f0fd-d616-4c71-880c-b183d9374f38",
   "metadata": {},
   "outputs": [],
   "source": [
    "# Print do último training job utilizado pelo SageMaker\n",
    "job_name = deepar.latest_training_job.name\n",
    "print('Job name: ', job_name)"
   ]
  },
  {
   "cell_type": "code",
   "execution_count": null,
   "id": "c2df0780-9604-4770-b2c2-46b9a4c72f5f",
   "metadata": {},
   "outputs": [],
   "source": [
    "# Cria o endpoint\n",
    "endpoint = session.endpoint_from_job(job_name = job_name,\n",
    "                                     initial_instance_count = 1,\n",
    "                                     instance_type = \"ml.m5.large\",\n",
    "                                     image_uri = container,\n",
    "                                     role = role)"
   ]
  },
  {
   "cell_type": "code",
   "execution_count": null,
   "id": "fe3e8261-d3df-42ed-8d7b-0067caee7a9d",
   "metadata": {},
   "outputs": [],
   "source": [
    "# Visualiza o endpoint\n",
    "print('Endpoint: ', endpoint)"
   ]
  },
  {
   "cell_type": "code",
   "execution_count": null,
   "id": "c3f649e5-55e0-4d73-b613-f463a95c34b3",
   "metadata": {},
   "outputs": [],
   "source": [
    "# Funções para previsões do modelo\n",
    "class DeepARPredictor(sagemaker.predictor.Predictor):\n",
    "\n",
    "    def set_prediction_parameters(self, freq, prediction_length):\n",
    "        \"\"\"Set the time frequency and prediction length parameters. \n",
    "          This method **must** be called before being able to use `predict`.\n",
    "        \n",
    "        Parameters:\n",
    "        freq -- string indicating the time frequency\n",
    "        prediction_length -- integer, number of predicted time points\n",
    "        \n",
    "        Return value: none.\n",
    "        \"\"\"\n",
    "        self.freq = freq\n",
    "        self.prediction_length = prediction_length\n",
    "        \n",
    "    def predict(self, ts, cat=None, dynamic_feat=None, \n",
    "                encoding=\"utf-8\", num_samples=100, quantiles=[\"0.1\", \"0.5\", \"0.9\"]):\n",
    "        \"\"\"Requests the prediction of for the time series listed in `ts`, \n",
    "           each with the (optional) corresponding category listed in `cat`.\n",
    "        \n",
    "        Parameters:\n",
    "        ts -- list of `pandas.Series` objects, the time series to predict\n",
    "        cat -- list of integers (default: None)\n",
    "        encoding -- string, encoding to use for the request (default: \"utf-8\")\n",
    "        num_samples -- integer, number of samples to compute at prediction time (default: 100)\n",
    "        quantiles -- list of strings specifying the quantiles to compute (default: [\"0.1\", \"0.5\", \"0.9\"])\n",
    "        \n",
    "        Return value: list of `pandas.DataFrame` objects, each containing the predictions\n",
    "        \"\"\"\n",
    "        prediction_times = [x.index[-1] + datetime.timedelta(hours=1) for x in ts] \n",
    "        \n",
    "        req = self.__encode_request(ts, cat, dynamic_feat, encoding, num_samples, quantiles)\n",
    "        res = super(DeepARPredictor, self).predict(req)\n",
    "        return self.__decode_response(res, prediction_times, encoding)\n",
    "    \n",
    "    def __encode_request(self, ts, cat, dynamic_feat, encoding, num_samples, quantiles):\n",
    "        \n",
    "        instances = [series_to_obj(ts[k]) for k in range(len(ts))]\n",
    "        \n",
    "        configuration = {\"num_samples\": num_samples, \"output_types\": [\"quantiles\"], \"quantiles\": quantiles}\n",
    "        http_request_data = {\"instances\": instances, \"configuration\": configuration}\n",
    "        return json.dumps(http_request_data).encode(encoding)\n",
    "    \n",
    "    def __decode_response(self, response, prediction_times, encoding):\n",
    "        response_data = json.loads(response.decode(encoding))\n",
    "        list_of_df = []\n",
    "        for k in range(len(prediction_times)):\n",
    "            prediction_index = pd.date_range(start=prediction_times[k], freq=self.freq, periods=self.prediction_length)\n",
    "            list_of_df.append(pd.DataFrame(data=response_data['predictions'][k]['quantiles'], index=prediction_index))\n",
    "        return list_of_df"
   ]
  },
  {
   "cell_type": "code",
   "execution_count": null,
   "id": "77afccfb-4369-484d-a3cd-05153e95894b",
   "metadata": {},
   "outputs": [],
   "source": [
    "predictor = DeepARPredictor(endpoint_name = 'deepar-bike-2022-05-19-19-15-14-057',\n",
    "                            sagemaker_session = session)\n",
    "predictor.set_prediction_parameters(freq, prediction_length)\n",
    "predictor.serializer.content_type = \"application/json\""
   ]
  },
  {
   "cell_type": "code",
   "execution_count": null,
   "id": "f5663081-adb1-4b10-a7ff-dbb2ff18b52c",
   "metadata": {},
   "outputs": [],
   "source": [
    "previsoes = predictor.predict(serie_temporal_treinamento)"
   ]
  },
  {
   "cell_type": "code",
   "execution_count": null,
   "id": "897ef72f-7d71-44da-8025-71229c3da447",
   "metadata": {},
   "outputs": [],
   "source": [
    "len(previsoes[0])"
   ]
  },
  {
   "cell_type": "code",
   "execution_count": null,
   "id": "167accc1-7adb-40eb-a776-0c8f56e2d272",
   "metadata": {},
   "outputs": [],
   "source": [
    "previsoes"
   ]
  },
  {
   "cell_type": "code",
   "execution_count": null,
   "id": "43f965ca-809a-4bca-8b4c-504f17027bb5",
   "metadata": {},
   "outputs": [],
   "source": [
    "for k in range(len(previsoes)):\n",
    "    plt.figure(figsize=(12,6))\n",
    "    previsoes[k]['0.5'].plot(label = 'Mediana', color = 'red')\n",
    "    #serie_temporal_teste[k].plot(label = 'Alvo')\n",
    "    serie_temporal_teste[k][-prediction_length - context_length:].plot(label = 'Alvo')\n",
    "    p10 = previsoes[k]['0.1']\n",
    "    p90 = previsoes[k]['0.9']\n",
    "    plt.fill_between(p10.index, p10, p90, color = 'y', alpha = 0.5, label = 'Intervalo de confiança')\n",
    "    plt.legend()\n",
    "    plt.show()"
   ]
  },
  {
   "cell_type": "code",
   "execution_count": null,
   "id": "e62d96cf-860e-41b3-a086-481d4180c5c5",
   "metadata": {},
   "outputs": [],
   "source": [
    "df_teste = base.iloc[689:,:]\n",
    "len(df_teste)"
   ]
  },
  {
   "cell_type": "code",
   "execution_count": null,
   "id": "0836a01a-078a-414b-9eca-377ca4690702",
   "metadata": {},
   "outputs": [],
   "source": [
    "df_teste"
   ]
  },
  {
   "cell_type": "code",
   "execution_count": null,
   "id": "30585518-52a0-4e56-b38b-cbb6ae1a400c",
   "metadata": {},
   "outputs": [],
   "source": [
    "previsoes2 = previsoes[0]['0.5'].values\n",
    "previsoes2"
   ]
  },
  {
   "cell_type": "code",
   "execution_count": null,
   "id": "e51d48a0-27ea-4f58-a61d-d7fb5bd2b1dc",
   "metadata": {},
   "outputs": [],
   "source": [
    "esperado = df_teste['count'].values\n",
    "esperado"
   ]
  },
  {
   "cell_type": "code",
   "execution_count": null,
   "id": "682f0067-472f-4e92-a809-79fdde21be82",
   "metadata": {},
   "outputs": [],
   "source": [
    "# Avaliação do modelo\n",
    "from sklearn.metrics import mean_absolute_error, mean_squared_error\n",
    "mae = mean_absolute_error(esperado, previsoes2)\n",
    "mse = mean_squared_error(esperado, previsoes2)\n",
    "print('MAE: ', mae, '\\nMSE: ', mse)"
   ]
  },
  {
   "cell_type": "markdown",
   "id": "65b80a5c-4bb6-411d-a878-3084258c27b0",
   "metadata": {},
   "source": [
    "# 7. Links Úteis"
   ]
  },
  {
   "cell_type": "markdown",
   "id": "3ba2cfeb-0b20-4b9b-a6f6-85ea503c34da",
   "metadata": {},
   "source": [
    "###### Baseado em: https://github.com/ChandraLingam/AmazonSageMakerCourse/tree/master/DeepAR/BikeRental\n",
    "###### https://www.kaggle.com/competitions/bike-sharing-demand/data\n",
    "###### https://docs.aws.amazon.com/sagemaker/latest/dg/ecr-sa-east-1.html\n",
    "###### https://sagemaker.readthedocs.io/en/stable/api/training/estimators.html\n",
    "###### https://github.com/aws-samples/amazon-sagemaker-managed-spot-training/blob/main/xgboost_built_in_managed_spot_training_checkpointing/xgboost_built_in_managed_spot_training_checkpointing.ipynb\n",
    "###### https://docs.aws.amazon.com/sagemaker/latest/dg/deepar_hyperparameters.html"
   ]
  }
 ],
 "metadata": {
  "kernelspec": {
   "display_name": "default:Python",
   "language": "python",
   "name": "conda-env-default-py"
  },
  "language_info": {
   "codemirror_mode": {
    "name": "ipython",
    "version": 3
   },
   "file_extension": ".py",
   "mimetype": "text/x-python",
   "name": "python",
   "nbconvert_exporter": "python",
   "pygments_lexer": "ipython3",
   "version": "3.9.13"
  }
 },
 "nbformat": 4,
 "nbformat_minor": 5
}
