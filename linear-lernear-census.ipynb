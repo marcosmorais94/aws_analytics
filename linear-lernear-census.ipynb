{
 "cells": [
  {
   "cell_type": "markdown",
   "id": "c4874fec-44dc-4380-956f-6ac752912cfc",
   "metadata": {},
   "source": [
    "# 1. Introdução"
   ]
  },
  {
   "cell_type": "markdown",
   "id": "ca651152-01f5-4fff-9ca4-ae96ebbe5f67",
   "metadata": {},
   "source": [
    "A Amazon Web Services (AWS) é a plataforma de nuvem mais adotada e mais abrangente do mundo, oferecendo mais de 200 serviços completos de datacenters em todo o mundo. Milhões de clientes, incluindo as startups de crescimento mais rápido, grandes empresas e os maiores órgãos governamentais, estão usando a AWS para reduzirem seus custos, ficarem mais ágeis e inovarem mais rapidamente.\n",
    "\n",
    "O ambiente AWS permite o processamento e análise de dados direto na nuvem, que implica principalmente em uma redução significativa de tempo de processamento e reduação de espaço fisícos para armazenamento de dados.\n",
    "\n",
    "Este script tem como objetivo uma análise preditiva relacionada a uma pesquisa sobre renda anual nos E.U.A utilizando algoritmos de classificação."
   ]
  },
  {
   "cell_type": "code",
   "execution_count": null,
   "id": "226e2ade-be6c-42d1-b170-650f1f5fd501",
   "metadata": {},
   "outputs": [],
   "source": []
  },
  {
   "cell_type": "markdown",
   "id": "11bce433-2fc2-46b0-b0fb-232393c24e3f",
   "metadata": {},
   "source": [
    "# 2. Carga dos Dados"
   ]
  },
  {
   "cell_type": "markdown",
   "id": "7a62d4df-974c-408d-973a-f629b4c1569a",
   "metadata": {},
   "source": [
    "## 2.1 - Carga de Pacotes"
   ]
  },
  {
   "cell_type": "code",
   "execution_count": 1,
   "id": "7432ee76-5dc5-4a3f-a05a-f78fad94c37e",
   "metadata": {},
   "outputs": [],
   "source": [
    "import pandas as pd\n",
    "import numpy as np\n",
    "import seaborn as sns\n",
    "import matplotlib.pyplot as plt\n",
    "import warnings\n",
    "from sklearn.model_selection import train_test_split\n",
    "warnings.filterwarnings('ignore')\n",
    "\n",
    "%matplotlib inline"
   ]
  },
  {
   "cell_type": "code",
   "execution_count": null,
   "id": "34b462ca-2096-4cdc-b6ee-7ef2de282c51",
   "metadata": {},
   "outputs": [],
   "source": []
  },
  {
   "cell_type": "markdown",
   "id": "d0434c0d-49ee-49f5-819f-c18947b4bc0c",
   "metadata": {},
   "source": [
    "# 3. Tratamento da Base de Dados"
   ]
  },
  {
   "cell_type": "code",
   "execution_count": null,
   "id": "99ebd66d-a755-41f8-ad86-8da4dfb317cc",
   "metadata": {},
   "outputs": [],
   "source": []
  },
  {
   "cell_type": "code",
   "execution_count": null,
   "id": "d382e85b-27e5-444f-a800-cc9271286793",
   "metadata": {},
   "outputs": [],
   "source": []
  },
  {
   "cell_type": "markdown",
   "id": "3b7d5eb4-a4a8-4a85-b553-d9d1cb92082f",
   "metadata": {},
   "source": [
    "# 4. Configuração do SageMaker"
   ]
  },
  {
   "cell_type": "markdown",
   "id": "dc1d5947-5f32-418c-839c-4c29a3495b4b",
   "metadata": {},
   "source": [
    "Capítulo onde é feita toda a configuração do SageMaker no ambiente AWS. Toda a configuração foi comentada devido problemas para rodar o AWS devido as cobranças com cartão de crédito."
   ]
  },
  {
   "cell_type": "code",
   "execution_count": null,
   "id": "ba86e7a6-19c7-4354-999e-d5604a1e312d",
   "metadata": {},
   "outputs": [],
   "source": []
  },
  {
   "cell_type": "code",
   "execution_count": null,
   "id": "29cbcac4-f6c1-49e5-9c55-1f1996bf903d",
   "metadata": {},
   "outputs": [],
   "source": []
  },
  {
   "cell_type": "markdown",
   "id": "06f91cc1-24d1-4978-8c7b-d7ea395db005",
   "metadata": {},
   "source": [
    "# 5. Treinamento do XGBoost"
   ]
  },
  {
   "cell_type": "code",
   "execution_count": null,
   "id": "a219f33c-25f8-49e4-9690-171a5925a582",
   "metadata": {},
   "outputs": [],
   "source": []
  },
  {
   "cell_type": "code",
   "execution_count": null,
   "id": "8ebfa338-9e95-4969-9207-9410bd6957d3",
   "metadata": {},
   "outputs": [],
   "source": []
  },
  {
   "cell_type": "markdown",
   "id": "f76c9586-e073-4721-bc8b-0f7426695055",
   "metadata": {},
   "source": [
    "# 6. Deploy e Avaliação do Modelo"
   ]
  },
  {
   "cell_type": "code",
   "execution_count": null,
   "id": "d336dd16-becf-4c80-a980-6f9ff6a5483a",
   "metadata": {},
   "outputs": [],
   "source": []
  }
 ],
 "metadata": {
  "kernelspec": {
   "display_name": "default:Python",
   "language": "python",
   "name": "conda-env-default-py"
  },
  "language_info": {
   "codemirror_mode": {
    "name": "ipython",
    "version": 3
   },
   "file_extension": ".py",
   "mimetype": "text/x-python",
   "name": "python",
   "nbconvert_exporter": "python",
   "pygments_lexer": "ipython3",
   "version": "3.9.13"
  }
 },
 "nbformat": 4,
 "nbformat_minor": 5
}
